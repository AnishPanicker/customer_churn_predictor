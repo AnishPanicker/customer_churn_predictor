{
 "cells": [
  {
   "cell_type": "markdown",
   "id": "8fe84dfe",
   "metadata": {},
   "source": [
    "# Importing the libraries"
   ]
  },
  {
   "cell_type": "code",
   "execution_count": 1,
   "id": "175302a5",
   "metadata": {},
   "outputs": [],
   "source": [
    "import pandas as pd\n",
    "import matplotlib.pyplot as mlt\n",
    "import numpy as np"
   ]
  },
  {
   "cell_type": "markdown",
   "id": "5212b681",
   "metadata": {},
   "source": [
    "# Data Ingestion"
   ]
  },
  {
   "cell_type": "code",
   "execution_count": 2,
   "id": "59e2bad8",
   "metadata": {},
   "outputs": [
    {
     "data": {
      "text/html": [
       "<div>\n",
       "<style scoped>\n",
       "    .dataframe tbody tr th:only-of-type {\n",
       "        vertical-align: middle;\n",
       "    }\n",
       "\n",
       "    .dataframe tbody tr th {\n",
       "        vertical-align: top;\n",
       "    }\n",
       "\n",
       "    .dataframe thead th {\n",
       "        text-align: right;\n",
       "    }\n",
       "</style>\n",
       "<table border=\"1\" class=\"dataframe\">\n",
       "  <thead>\n",
       "    <tr style=\"text-align: right;\">\n",
       "      <th></th>\n",
       "      <th>customerID</th>\n",
       "      <th>gender</th>\n",
       "      <th>SeniorCitizen</th>\n",
       "      <th>Partner</th>\n",
       "      <th>Dependents</th>\n",
       "      <th>tenure</th>\n",
       "      <th>PhoneService</th>\n",
       "      <th>MultipleLines</th>\n",
       "      <th>InternetService</th>\n",
       "      <th>OnlineSecurity</th>\n",
       "      <th>...</th>\n",
       "      <th>DeviceProtection</th>\n",
       "      <th>TechSupport</th>\n",
       "      <th>StreamingTV</th>\n",
       "      <th>StreamingMovies</th>\n",
       "      <th>Contract</th>\n",
       "      <th>PaperlessBilling</th>\n",
       "      <th>PaymentMethod</th>\n",
       "      <th>MonthlyCharges</th>\n",
       "      <th>TotalCharges</th>\n",
       "      <th>Churn</th>\n",
       "    </tr>\n",
       "  </thead>\n",
       "  <tbody>\n",
       "    <tr>\n",
       "      <th>4264</th>\n",
       "      <td>8818-DOPVL</td>\n",
       "      <td>Female</td>\n",
       "      <td>1</td>\n",
       "      <td>No</td>\n",
       "      <td>No</td>\n",
       "      <td>46</td>\n",
       "      <td>Yes</td>\n",
       "      <td>Yes</td>\n",
       "      <td>Fiber optic</td>\n",
       "      <td>No</td>\n",
       "      <td>...</td>\n",
       "      <td>Yes</td>\n",
       "      <td>No</td>\n",
       "      <td>Yes</td>\n",
       "      <td>Yes</td>\n",
       "      <td>Month-to-month</td>\n",
       "      <td>Yes</td>\n",
       "      <td>Electronic check</td>\n",
       "      <td>104.45</td>\n",
       "      <td>4863.85</td>\n",
       "      <td>No</td>\n",
       "    </tr>\n",
       "    <tr>\n",
       "      <th>3175</th>\n",
       "      <td>7395-IGJOS</td>\n",
       "      <td>Male</td>\n",
       "      <td>1</td>\n",
       "      <td>Yes</td>\n",
       "      <td>No</td>\n",
       "      <td>17</td>\n",
       "      <td>Yes</td>\n",
       "      <td>No</td>\n",
       "      <td>Fiber optic</td>\n",
       "      <td>No</td>\n",
       "      <td>...</td>\n",
       "      <td>No</td>\n",
       "      <td>No</td>\n",
       "      <td>No</td>\n",
       "      <td>Yes</td>\n",
       "      <td>Month-to-month</td>\n",
       "      <td>No</td>\n",
       "      <td>Bank transfer (automatic)</td>\n",
       "      <td>81.50</td>\n",
       "      <td>1329.2</td>\n",
       "      <td>Yes</td>\n",
       "    </tr>\n",
       "    <tr>\n",
       "      <th>563</th>\n",
       "      <td>6103-LIANB</td>\n",
       "      <td>Male</td>\n",
       "      <td>0</td>\n",
       "      <td>Yes</td>\n",
       "      <td>Yes</td>\n",
       "      <td>59</td>\n",
       "      <td>Yes</td>\n",
       "      <td>Yes</td>\n",
       "      <td>Fiber optic</td>\n",
       "      <td>No</td>\n",
       "      <td>...</td>\n",
       "      <td>Yes</td>\n",
       "      <td>No</td>\n",
       "      <td>Yes</td>\n",
       "      <td>Yes</td>\n",
       "      <td>Two year</td>\n",
       "      <td>Yes</td>\n",
       "      <td>Credit card (automatic)</td>\n",
       "      <td>99.50</td>\n",
       "      <td>5861.75</td>\n",
       "      <td>No</td>\n",
       "    </tr>\n",
       "    <tr>\n",
       "      <th>220</th>\n",
       "      <td>9408-SSNVZ</td>\n",
       "      <td>Female</td>\n",
       "      <td>0</td>\n",
       "      <td>No</td>\n",
       "      <td>No</td>\n",
       "      <td>4</td>\n",
       "      <td>Yes</td>\n",
       "      <td>No</td>\n",
       "      <td>Fiber optic</td>\n",
       "      <td>No</td>\n",
       "      <td>...</td>\n",
       "      <td>No</td>\n",
       "      <td>No</td>\n",
       "      <td>No</td>\n",
       "      <td>No</td>\n",
       "      <td>Month-to-month</td>\n",
       "      <td>Yes</td>\n",
       "      <td>Electronic check</td>\n",
       "      <td>70.15</td>\n",
       "      <td>268.35</td>\n",
       "      <td>Yes</td>\n",
       "    </tr>\n",
       "    <tr>\n",
       "      <th>5940</th>\n",
       "      <td>9711-FJTBX</td>\n",
       "      <td>Male</td>\n",
       "      <td>0</td>\n",
       "      <td>Yes</td>\n",
       "      <td>Yes</td>\n",
       "      <td>56</td>\n",
       "      <td>Yes</td>\n",
       "      <td>No</td>\n",
       "      <td>Fiber optic</td>\n",
       "      <td>No</td>\n",
       "      <td>...</td>\n",
       "      <td>Yes</td>\n",
       "      <td>Yes</td>\n",
       "      <td>No</td>\n",
       "      <td>No</td>\n",
       "      <td>One year</td>\n",
       "      <td>Yes</td>\n",
       "      <td>Mailed check</td>\n",
       "      <td>85.85</td>\n",
       "      <td>4793.8</td>\n",
       "      <td>No</td>\n",
       "    </tr>\n",
       "  </tbody>\n",
       "</table>\n",
       "<p>5 rows × 21 columns</p>\n",
       "</div>"
      ],
      "text/plain": [
       "      customerID  gender  SeniorCitizen Partner Dependents  tenure  \\\n",
       "4264  8818-DOPVL  Female              1      No         No      46   \n",
       "3175  7395-IGJOS    Male              1     Yes         No      17   \n",
       "563   6103-LIANB    Male              0     Yes        Yes      59   \n",
       "220   9408-SSNVZ  Female              0      No         No       4   \n",
       "5940  9711-FJTBX    Male              0     Yes        Yes      56   \n",
       "\n",
       "     PhoneService MultipleLines InternetService OnlineSecurity  ...  \\\n",
       "4264          Yes           Yes     Fiber optic             No  ...   \n",
       "3175          Yes            No     Fiber optic             No  ...   \n",
       "563           Yes           Yes     Fiber optic             No  ...   \n",
       "220           Yes            No     Fiber optic             No  ...   \n",
       "5940          Yes            No     Fiber optic             No  ...   \n",
       "\n",
       "     DeviceProtection TechSupport StreamingTV StreamingMovies        Contract  \\\n",
       "4264              Yes          No         Yes             Yes  Month-to-month   \n",
       "3175               No          No          No             Yes  Month-to-month   \n",
       "563               Yes          No         Yes             Yes        Two year   \n",
       "220                No          No          No              No  Month-to-month   \n",
       "5940              Yes         Yes          No              No        One year   \n",
       "\n",
       "     PaperlessBilling              PaymentMethod MonthlyCharges  TotalCharges  \\\n",
       "4264              Yes           Electronic check         104.45       4863.85   \n",
       "3175               No  Bank transfer (automatic)          81.50        1329.2   \n",
       "563               Yes    Credit card (automatic)          99.50       5861.75   \n",
       "220               Yes           Electronic check          70.15        268.35   \n",
       "5940              Yes               Mailed check          85.85        4793.8   \n",
       "\n",
       "     Churn  \n",
       "4264    No  \n",
       "3175   Yes  \n",
       "563     No  \n",
       "220    Yes  \n",
       "5940    No  \n",
       "\n",
       "[5 rows x 21 columns]"
      ]
     },
     "execution_count": 2,
     "metadata": {},
     "output_type": "execute_result"
    }
   ],
   "source": [
    "\n",
    "dataset1=pd.read_csv('WA_Fn-UseC_-Telco-Customer-Churn.csv')\n",
    "\n",
    "dataset1.sample(5)\n"
   ]
  },
  {
   "cell_type": "code",
   "execution_count": 3,
   "id": "07baa6c1",
   "metadata": {},
   "outputs": [],
   "source": [
    "dataset1.drop_duplicates(inplace=True)"
   ]
  },
  {
   "cell_type": "markdown",
   "id": "101a3a18",
   "metadata": {},
   "source": [
    "# Data Cleaning"
   ]
  },
  {
   "cell_type": "code",
   "execution_count": 4,
   "id": "aa6238b0",
   "metadata": {},
   "outputs": [],
   "source": [
    "dataset1.drop('customerID',axis='columns',inplace=True)"
   ]
  },
  {
   "cell_type": "code",
   "execution_count": 5,
   "id": "d37f2a43",
   "metadata": {},
   "outputs": [],
   "source": [
    "dataset1.drop_duplicates(inplace=True)"
   ]
  },
  {
   "cell_type": "code",
   "execution_count": 6,
   "id": "b4f36615",
   "metadata": {},
   "outputs": [
    {
     "data": {
      "text/plain": [
       "gender               object\n",
       "SeniorCitizen         int64\n",
       "Partner              object\n",
       "Dependents           object\n",
       "tenure                int64\n",
       "PhoneService         object\n",
       "MultipleLines        object\n",
       "InternetService      object\n",
       "OnlineSecurity       object\n",
       "OnlineBackup         object\n",
       "DeviceProtection     object\n",
       "TechSupport          object\n",
       "StreamingTV          object\n",
       "StreamingMovies      object\n",
       "Contract             object\n",
       "PaperlessBilling     object\n",
       "PaymentMethod        object\n",
       "MonthlyCharges      float64\n",
       "TotalCharges         object\n",
       "Churn                object\n",
       "dtype: object"
      ]
     },
     "execution_count": 6,
     "metadata": {},
     "output_type": "execute_result"
    }
   ],
   "source": [
    "dataset1.dtypes"
   ]
  },
  {
   "cell_type": "code",
   "execution_count": 7,
   "id": "0d0b68ee",
   "metadata": {},
   "outputs": [
    {
     "data": {
      "text/plain": [
       "0         29.85\n",
       "1       1889.50\n",
       "2        108.15\n",
       "3       1840.75\n",
       "4        151.65\n",
       "         ...   \n",
       "7038    1990.50\n",
       "7039    7362.90\n",
       "7040     346.45\n",
       "7041     306.60\n",
       "7042    6844.50\n",
       "Name: TotalCharges, Length: 7021, dtype: float64"
      ]
     },
     "execution_count": 7,
     "metadata": {},
     "output_type": "execute_result"
    }
   ],
   "source": [
    "pd.to_numeric(dataset1.TotalCharges,errors='coerce')"
   ]
  },
  {
   "cell_type": "code",
   "execution_count": 8,
   "id": "846389d6",
   "metadata": {},
   "outputs": [
    {
     "data": {
      "text/plain": [
       "count     7021\n",
       "unique    6531\n",
       "top           \n",
       "freq        11\n",
       "Name: TotalCharges, dtype: object"
      ]
     },
     "execution_count": 8,
     "metadata": {},
     "output_type": "execute_result"
    }
   ],
   "source": [
    "dataset1.TotalCharges.describe()"
   ]
  },
  {
   "cell_type": "code",
   "execution_count": 9,
   "id": "4ae23ea0",
   "metadata": {},
   "outputs": [
    {
     "data": {
      "text/plain": [
       "(7021, 20)"
      ]
     },
     "execution_count": 9,
     "metadata": {},
     "output_type": "execute_result"
    }
   ],
   "source": [
    "dataset1.shape"
   ]
  },
  {
   "cell_type": "code",
   "execution_count": 10,
   "id": "57fac05a",
   "metadata": {},
   "outputs": [
    {
     "data": {
      "text/html": [
       "<div>\n",
       "<style scoped>\n",
       "    .dataframe tbody tr th:only-of-type {\n",
       "        vertical-align: middle;\n",
       "    }\n",
       "\n",
       "    .dataframe tbody tr th {\n",
       "        vertical-align: top;\n",
       "    }\n",
       "\n",
       "    .dataframe thead th {\n",
       "        text-align: right;\n",
       "    }\n",
       "</style>\n",
       "<table border=\"1\" class=\"dataframe\">\n",
       "  <thead>\n",
       "    <tr style=\"text-align: right;\">\n",
       "      <th></th>\n",
       "      <th>gender</th>\n",
       "      <th>SeniorCitizen</th>\n",
       "      <th>Partner</th>\n",
       "      <th>Dependents</th>\n",
       "      <th>tenure</th>\n",
       "      <th>PhoneService</th>\n",
       "      <th>MultipleLines</th>\n",
       "      <th>InternetService</th>\n",
       "      <th>OnlineSecurity</th>\n",
       "      <th>OnlineBackup</th>\n",
       "      <th>DeviceProtection</th>\n",
       "      <th>TechSupport</th>\n",
       "      <th>StreamingTV</th>\n",
       "      <th>StreamingMovies</th>\n",
       "      <th>Contract</th>\n",
       "      <th>PaperlessBilling</th>\n",
       "      <th>PaymentMethod</th>\n",
       "      <th>MonthlyCharges</th>\n",
       "      <th>TotalCharges</th>\n",
       "      <th>Churn</th>\n",
       "    </tr>\n",
       "  </thead>\n",
       "  <tbody>\n",
       "    <tr>\n",
       "      <th>488</th>\n",
       "      <td>Female</td>\n",
       "      <td>0</td>\n",
       "      <td>Yes</td>\n",
       "      <td>Yes</td>\n",
       "      <td>0</td>\n",
       "      <td>No</td>\n",
       "      <td>No phone service</td>\n",
       "      <td>DSL</td>\n",
       "      <td>Yes</td>\n",
       "      <td>No</td>\n",
       "      <td>Yes</td>\n",
       "      <td>Yes</td>\n",
       "      <td>Yes</td>\n",
       "      <td>No</td>\n",
       "      <td>Two year</td>\n",
       "      <td>Yes</td>\n",
       "      <td>Bank transfer (automatic)</td>\n",
       "      <td>52.55</td>\n",
       "      <td></td>\n",
       "      <td>No</td>\n",
       "    </tr>\n",
       "    <tr>\n",
       "      <th>753</th>\n",
       "      <td>Male</td>\n",
       "      <td>0</td>\n",
       "      <td>No</td>\n",
       "      <td>Yes</td>\n",
       "      <td>0</td>\n",
       "      <td>Yes</td>\n",
       "      <td>No</td>\n",
       "      <td>No</td>\n",
       "      <td>No internet service</td>\n",
       "      <td>No internet service</td>\n",
       "      <td>No internet service</td>\n",
       "      <td>No internet service</td>\n",
       "      <td>No internet service</td>\n",
       "      <td>No internet service</td>\n",
       "      <td>Two year</td>\n",
       "      <td>No</td>\n",
       "      <td>Mailed check</td>\n",
       "      <td>20.25</td>\n",
       "      <td></td>\n",
       "      <td>No</td>\n",
       "    </tr>\n",
       "    <tr>\n",
       "      <th>936</th>\n",
       "      <td>Female</td>\n",
       "      <td>0</td>\n",
       "      <td>Yes</td>\n",
       "      <td>Yes</td>\n",
       "      <td>0</td>\n",
       "      <td>Yes</td>\n",
       "      <td>No</td>\n",
       "      <td>DSL</td>\n",
       "      <td>Yes</td>\n",
       "      <td>Yes</td>\n",
       "      <td>Yes</td>\n",
       "      <td>No</td>\n",
       "      <td>Yes</td>\n",
       "      <td>Yes</td>\n",
       "      <td>Two year</td>\n",
       "      <td>No</td>\n",
       "      <td>Mailed check</td>\n",
       "      <td>80.85</td>\n",
       "      <td></td>\n",
       "      <td>No</td>\n",
       "    </tr>\n",
       "    <tr>\n",
       "      <th>1082</th>\n",
       "      <td>Male</td>\n",
       "      <td>0</td>\n",
       "      <td>Yes</td>\n",
       "      <td>Yes</td>\n",
       "      <td>0</td>\n",
       "      <td>Yes</td>\n",
       "      <td>Yes</td>\n",
       "      <td>No</td>\n",
       "      <td>No internet service</td>\n",
       "      <td>No internet service</td>\n",
       "      <td>No internet service</td>\n",
       "      <td>No internet service</td>\n",
       "      <td>No internet service</td>\n",
       "      <td>No internet service</td>\n",
       "      <td>Two year</td>\n",
       "      <td>No</td>\n",
       "      <td>Mailed check</td>\n",
       "      <td>25.75</td>\n",
       "      <td></td>\n",
       "      <td>No</td>\n",
       "    </tr>\n",
       "    <tr>\n",
       "      <th>1340</th>\n",
       "      <td>Female</td>\n",
       "      <td>0</td>\n",
       "      <td>Yes</td>\n",
       "      <td>Yes</td>\n",
       "      <td>0</td>\n",
       "      <td>No</td>\n",
       "      <td>No phone service</td>\n",
       "      <td>DSL</td>\n",
       "      <td>Yes</td>\n",
       "      <td>Yes</td>\n",
       "      <td>Yes</td>\n",
       "      <td>Yes</td>\n",
       "      <td>Yes</td>\n",
       "      <td>No</td>\n",
       "      <td>Two year</td>\n",
       "      <td>No</td>\n",
       "      <td>Credit card (automatic)</td>\n",
       "      <td>56.05</td>\n",
       "      <td></td>\n",
       "      <td>No</td>\n",
       "    </tr>\n",
       "    <tr>\n",
       "      <th>3331</th>\n",
       "      <td>Male</td>\n",
       "      <td>0</td>\n",
       "      <td>Yes</td>\n",
       "      <td>Yes</td>\n",
       "      <td>0</td>\n",
       "      <td>Yes</td>\n",
       "      <td>No</td>\n",
       "      <td>No</td>\n",
       "      <td>No internet service</td>\n",
       "      <td>No internet service</td>\n",
       "      <td>No internet service</td>\n",
       "      <td>No internet service</td>\n",
       "      <td>No internet service</td>\n",
       "      <td>No internet service</td>\n",
       "      <td>Two year</td>\n",
       "      <td>No</td>\n",
       "      <td>Mailed check</td>\n",
       "      <td>19.85</td>\n",
       "      <td></td>\n",
       "      <td>No</td>\n",
       "    </tr>\n",
       "    <tr>\n",
       "      <th>3826</th>\n",
       "      <td>Male</td>\n",
       "      <td>0</td>\n",
       "      <td>Yes</td>\n",
       "      <td>Yes</td>\n",
       "      <td>0</td>\n",
       "      <td>Yes</td>\n",
       "      <td>Yes</td>\n",
       "      <td>No</td>\n",
       "      <td>No internet service</td>\n",
       "      <td>No internet service</td>\n",
       "      <td>No internet service</td>\n",
       "      <td>No internet service</td>\n",
       "      <td>No internet service</td>\n",
       "      <td>No internet service</td>\n",
       "      <td>Two year</td>\n",
       "      <td>No</td>\n",
       "      <td>Mailed check</td>\n",
       "      <td>25.35</td>\n",
       "      <td></td>\n",
       "      <td>No</td>\n",
       "    </tr>\n",
       "    <tr>\n",
       "      <th>4380</th>\n",
       "      <td>Female</td>\n",
       "      <td>0</td>\n",
       "      <td>Yes</td>\n",
       "      <td>Yes</td>\n",
       "      <td>0</td>\n",
       "      <td>Yes</td>\n",
       "      <td>No</td>\n",
       "      <td>No</td>\n",
       "      <td>No internet service</td>\n",
       "      <td>No internet service</td>\n",
       "      <td>No internet service</td>\n",
       "      <td>No internet service</td>\n",
       "      <td>No internet service</td>\n",
       "      <td>No internet service</td>\n",
       "      <td>Two year</td>\n",
       "      <td>No</td>\n",
       "      <td>Mailed check</td>\n",
       "      <td>20.00</td>\n",
       "      <td></td>\n",
       "      <td>No</td>\n",
       "    </tr>\n",
       "    <tr>\n",
       "      <th>5218</th>\n",
       "      <td>Male</td>\n",
       "      <td>0</td>\n",
       "      <td>Yes</td>\n",
       "      <td>Yes</td>\n",
       "      <td>0</td>\n",
       "      <td>Yes</td>\n",
       "      <td>No</td>\n",
       "      <td>No</td>\n",
       "      <td>No internet service</td>\n",
       "      <td>No internet service</td>\n",
       "      <td>No internet service</td>\n",
       "      <td>No internet service</td>\n",
       "      <td>No internet service</td>\n",
       "      <td>No internet service</td>\n",
       "      <td>One year</td>\n",
       "      <td>Yes</td>\n",
       "      <td>Mailed check</td>\n",
       "      <td>19.70</td>\n",
       "      <td></td>\n",
       "      <td>No</td>\n",
       "    </tr>\n",
       "    <tr>\n",
       "      <th>6670</th>\n",
       "      <td>Female</td>\n",
       "      <td>0</td>\n",
       "      <td>Yes</td>\n",
       "      <td>Yes</td>\n",
       "      <td>0</td>\n",
       "      <td>Yes</td>\n",
       "      <td>Yes</td>\n",
       "      <td>DSL</td>\n",
       "      <td>No</td>\n",
       "      <td>Yes</td>\n",
       "      <td>Yes</td>\n",
       "      <td>Yes</td>\n",
       "      <td>Yes</td>\n",
       "      <td>No</td>\n",
       "      <td>Two year</td>\n",
       "      <td>No</td>\n",
       "      <td>Mailed check</td>\n",
       "      <td>73.35</td>\n",
       "      <td></td>\n",
       "      <td>No</td>\n",
       "    </tr>\n",
       "    <tr>\n",
       "      <th>6754</th>\n",
       "      <td>Male</td>\n",
       "      <td>0</td>\n",
       "      <td>No</td>\n",
       "      <td>Yes</td>\n",
       "      <td>0</td>\n",
       "      <td>Yes</td>\n",
       "      <td>Yes</td>\n",
       "      <td>DSL</td>\n",
       "      <td>Yes</td>\n",
       "      <td>Yes</td>\n",
       "      <td>No</td>\n",
       "      <td>Yes</td>\n",
       "      <td>No</td>\n",
       "      <td>No</td>\n",
       "      <td>Two year</td>\n",
       "      <td>Yes</td>\n",
       "      <td>Bank transfer (automatic)</td>\n",
       "      <td>61.90</td>\n",
       "      <td></td>\n",
       "      <td>No</td>\n",
       "    </tr>\n",
       "  </tbody>\n",
       "</table>\n",
       "</div>"
      ],
      "text/plain": [
       "      gender  SeniorCitizen Partner Dependents  tenure PhoneService  \\\n",
       "488   Female              0     Yes        Yes       0           No   \n",
       "753     Male              0      No        Yes       0          Yes   \n",
       "936   Female              0     Yes        Yes       0          Yes   \n",
       "1082    Male              0     Yes        Yes       0          Yes   \n",
       "1340  Female              0     Yes        Yes       0           No   \n",
       "3331    Male              0     Yes        Yes       0          Yes   \n",
       "3826    Male              0     Yes        Yes       0          Yes   \n",
       "4380  Female              0     Yes        Yes       0          Yes   \n",
       "5218    Male              0     Yes        Yes       0          Yes   \n",
       "6670  Female              0     Yes        Yes       0          Yes   \n",
       "6754    Male              0      No        Yes       0          Yes   \n",
       "\n",
       "         MultipleLines InternetService       OnlineSecurity  \\\n",
       "488   No phone service             DSL                  Yes   \n",
       "753                 No              No  No internet service   \n",
       "936                 No             DSL                  Yes   \n",
       "1082               Yes              No  No internet service   \n",
       "1340  No phone service             DSL                  Yes   \n",
       "3331                No              No  No internet service   \n",
       "3826               Yes              No  No internet service   \n",
       "4380                No              No  No internet service   \n",
       "5218                No              No  No internet service   \n",
       "6670               Yes             DSL                   No   \n",
       "6754               Yes             DSL                  Yes   \n",
       "\n",
       "             OnlineBackup     DeviceProtection          TechSupport  \\\n",
       "488                    No                  Yes                  Yes   \n",
       "753   No internet service  No internet service  No internet service   \n",
       "936                   Yes                  Yes                   No   \n",
       "1082  No internet service  No internet service  No internet service   \n",
       "1340                  Yes                  Yes                  Yes   \n",
       "3331  No internet service  No internet service  No internet service   \n",
       "3826  No internet service  No internet service  No internet service   \n",
       "4380  No internet service  No internet service  No internet service   \n",
       "5218  No internet service  No internet service  No internet service   \n",
       "6670                  Yes                  Yes                  Yes   \n",
       "6754                  Yes                   No                  Yes   \n",
       "\n",
       "              StreamingTV      StreamingMovies  Contract PaperlessBilling  \\\n",
       "488                   Yes                   No  Two year              Yes   \n",
       "753   No internet service  No internet service  Two year               No   \n",
       "936                   Yes                  Yes  Two year               No   \n",
       "1082  No internet service  No internet service  Two year               No   \n",
       "1340                  Yes                   No  Two year               No   \n",
       "3331  No internet service  No internet service  Two year               No   \n",
       "3826  No internet service  No internet service  Two year               No   \n",
       "4380  No internet service  No internet service  Two year               No   \n",
       "5218  No internet service  No internet service  One year              Yes   \n",
       "6670                  Yes                   No  Two year               No   \n",
       "6754                   No                   No  Two year              Yes   \n",
       "\n",
       "                  PaymentMethod  MonthlyCharges TotalCharges Churn  \n",
       "488   Bank transfer (automatic)           52.55                 No  \n",
       "753                Mailed check           20.25                 No  \n",
       "936                Mailed check           80.85                 No  \n",
       "1082               Mailed check           25.75                 No  \n",
       "1340    Credit card (automatic)           56.05                 No  \n",
       "3331               Mailed check           19.85                 No  \n",
       "3826               Mailed check           25.35                 No  \n",
       "4380               Mailed check           20.00                 No  \n",
       "5218               Mailed check           19.70                 No  \n",
       "6670               Mailed check           73.35                 No  \n",
       "6754  Bank transfer (automatic)           61.90                 No  "
      ]
     },
     "execution_count": 10,
     "metadata": {},
     "output_type": "execute_result"
    }
   ],
   "source": [
    "dataset1[pd.to_numeric(dataset1.TotalCharges,errors='coerce').isnull()]"
   ]
  },
  {
   "cell_type": "code",
   "execution_count": 11,
   "id": "71e4b215",
   "metadata": {},
   "outputs": [
    {
     "data": {
      "text/plain": [
       "(7021, 20)"
      ]
     },
     "execution_count": 11,
     "metadata": {},
     "output_type": "execute_result"
    }
   ],
   "source": [
    "dataset1.shape"
   ]
  },
  {
   "cell_type": "code",
   "execution_count": 12,
   "id": "7a4945fc",
   "metadata": {},
   "outputs": [
    {
     "data": {
      "text/plain": [
       "(7010, 20)"
      ]
     },
     "execution_count": 12,
     "metadata": {},
     "output_type": "execute_result"
    }
   ],
   "source": [
    "dataset2=dataset1[dataset1.TotalCharges!=' ']\n",
    "dataset2.shape"
   ]
  },
  {
   "cell_type": "code",
   "execution_count": 13,
   "id": "b4e2be86",
   "metadata": {},
   "outputs": [
    {
     "name": "stderr",
     "output_type": "stream",
     "text": [
      "C:\\Users\\hp 1\\AppData\\Local\\Temp\\ipykernel_2792\\2081488761.py:1: SettingWithCopyWarning: \n",
      "A value is trying to be set on a copy of a slice from a DataFrame.\n",
      "Try using .loc[row_indexer,col_indexer] = value instead\n",
      "\n",
      "See the caveats in the documentation: https://pandas.pydata.org/pandas-docs/stable/user_guide/indexing.html#returning-a-view-versus-a-copy\n",
      "  dataset2.TotalCharges=pd.to_numeric(dataset2.TotalCharges)\n"
     ]
    }
   ],
   "source": [
    "dataset2.TotalCharges=pd.to_numeric(dataset2.TotalCharges)"
   ]
  },
  {
   "cell_type": "code",
   "execution_count": 14,
   "id": "4bb9b7dc",
   "metadata": {},
   "outputs": [
    {
     "data": {
      "text/plain": [
       "dtype('float64')"
      ]
     },
     "execution_count": 14,
     "metadata": {},
     "output_type": "execute_result"
    }
   ],
   "source": [
    "dataset2.TotalCharges.dtypes"
   ]
  },
  {
   "cell_type": "code",
   "execution_count": null,
   "id": "8b1960be",
   "metadata": {},
   "outputs": [],
   "source": []
  },
  {
   "cell_type": "markdown",
   "id": "44994f79",
   "metadata": {},
   "source": [
    "# Data Visualization"
   ]
  },
  {
   "cell_type": "markdown",
   "id": "112b1894",
   "metadata": {},
   "source": [
    "## Customer leaving wrt tenure"
   ]
  },
  {
   "cell_type": "code",
   "execution_count": 15,
   "id": "efd9cceb",
   "metadata": {},
   "outputs": [],
   "source": [
    "Tenure_and_No=dataset2[dataset2.Churn=='No'].tenure\n",
    "Tenure_and_Yes=dataset2[dataset2.Churn=='Yes'].tenure"
   ]
  },
  {
   "cell_type": "code",
   "execution_count": 16,
   "id": "41f2a26e",
   "metadata": {},
   "outputs": [
    {
     "data": {
      "text/plain": [
       "Text(0.5, 1.0, 'CUSTOMER CHURN wrt TENURE')"
      ]
     },
     "execution_count": 16,
     "metadata": {},
     "output_type": "execute_result"
    },
    {
     "data": {
      "image/png": "[encoded data removed]",
      "text/plain": [
       "<Figure size 432x288 with 1 Axes>"
      ]
     },
     "metadata": {
      "needs_background": "light"
     },
     "output_type": "display_data"
    }
   ],
   "source": [
    "mlt.hist([Tenure_and_No,Tenure_and_Yes],label=['Churn=No','Churn=yes'])\n",
    "mlt.legend()\n",
    "mlt.ylabel('no of cust')\n",
    "mlt.xlabel('TENURE')\n",
    "mlt.title('CUSTOMER CHURN wrt TENURE')"
   ]
  },
  {
   "cell_type": "code",
   "execution_count": 17,
   "id": "78c2a8ba",
   "metadata": {},
   "outputs": [],
   "source": [
    "mc_and_No=dataset2[dataset2.Churn=='No'].MonthlyCharges\n",
    "mc_and_Yes=dataset2[dataset2.Churn=='Yes'].MonthlyCharges"
   ]
  },
  {
   "cell_type": "code",
   "execution_count": 18,
   "id": "c1f1dd25",
   "metadata": {},
   "outputs": [
    {
     "data": {
      "text/plain": [
       "Text(0.5, 1.0, 'CUSTOMER CHURN wrt TENURE')"
      ]
     },
     "execution_count": 18,
     "metadata": {},
     "output_type": "execute_result"
    },
    {
     "data": {
      "image/png": "[encoded data removed]",
      "text/plain": [
       "<Figure size 432x288 with 1 Axes>"
      ]
     },
     "metadata": {
      "needs_background": "light"
     },
     "output_type": "display_data"
    }
   ],
   "source": [
    "mlt.hist([mc_and_No,mc_and_Yes],label=['Churn=No','Churn=yes'])\n",
    "mlt.legend()\n",
    "mlt.ylabel('no of cust')\n",
    "mlt.xlabel('MonthlyCharges')\n",
    "mlt.title('CUSTOMER CHURN wrt TENURE')"
   ]
  },
  {
   "cell_type": "markdown",
   "id": "df97cab3",
   "metadata": {},
   "source": [
    "# Feature Engg."
   ]
  },
  {
   "cell_type": "code",
   "execution_count": 19,
   "id": "e2652e96",
   "metadata": {},
   "outputs": [
    {
     "name": "stdout",
     "output_type": "stream",
     "text": [
      "gender:['Female' 'Male']\n",
      "Partner:['Yes' 'No']\n",
      "Dependents:['No' 'Yes']\n",
      "PhoneService:['No' 'Yes']\n",
      "MultipleLines:['No phone service' 'No' 'Yes']\n",
      "InternetService:['DSL' 'Fiber optic' 'No']\n",
      "OnlineSecurity:['No' 'Yes' 'No internet service']\n",
      "OnlineBackup:['Yes' 'No' 'No internet service']\n",
      "DeviceProtection:['No' 'Yes' 'No internet service']\n",
      "TechSupport:['No' 'Yes' 'No internet service']\n",
      "StreamingTV:['No' 'Yes' 'No internet service']\n",
      "StreamingMovies:['No' 'Yes' 'No internet service']\n",
      "Contract:['Month-to-month' 'One year' 'Two year']\n",
      "PaperlessBilling:['Yes' 'No']\n",
      "PaymentMethod:['Electronic check' 'Mailed check' 'Bank transfer (automatic)'\n",
      " 'Credit card (automatic)']\n",
      "Churn:['No' 'Yes']\n"
     ]
    }
   ],
   "source": [
    "for column in dataset2:\n",
    "    if dataset2[column].dtypes=='object':\n",
    "        print(f'{column}:{dataset2[column].unique()}')"
   ]
  },
  {
   "cell_type": "code",
   "execution_count": 20,
   "id": "7c8b4311",
   "metadata": {},
   "outputs": [
    {
     "name": "stderr",
     "output_type": "stream",
     "text": [
      "C:\\Users\\hp 1\\AppData\\Local\\Temp\\ipykernel_2792\\3471670931.py:1: SettingWithCopyWarning: \n",
      "A value is trying to be set on a copy of a slice from a DataFrame\n",
      "\n",
      "See the caveats in the documentation: https://pandas.pydata.org/pandas-docs/stable/user_guide/indexing.html#returning-a-view-versus-a-copy\n",
      "  dataset2.replace('No phone service','No',inplace=True)\n",
      "C:\\Users\\hp 1\\AppData\\Local\\Temp\\ipykernel_2792\\3471670931.py:2: SettingWithCopyWarning: \n",
      "A value is trying to be set on a copy of a slice from a DataFrame\n",
      "\n",
      "See the caveats in the documentation: https://pandas.pydata.org/pandas-docs/stable/user_guide/indexing.html#returning-a-view-versus-a-copy\n",
      "  dataset2.replace('No internet service','No',inplace=True)\n"
     ]
    }
   ],
   "source": [
    "dataset2.replace('No phone service','No',inplace=True)\n",
    "dataset2.replace('No internet service','No',inplace=True)"
   ]
  },
  {
   "cell_type": "code",
   "execution_count": 21,
   "id": "466cd379",
   "metadata": {},
   "outputs": [
    {
     "name": "stdout",
     "output_type": "stream",
     "text": [
      "gender:['Female' 'Male']\n",
      "Partner:['Yes' 'No']\n",
      "Dependents:['No' 'Yes']\n",
      "PhoneService:['No' 'Yes']\n",
      "MultipleLines:['No' 'Yes']\n",
      "InternetService:['DSL' 'Fiber optic' 'No']\n",
      "OnlineSecurity:['No' 'Yes']\n",
      "OnlineBackup:['Yes' 'No']\n",
      "DeviceProtection:['No' 'Yes']\n",
      "TechSupport:['No' 'Yes']\n",
      "StreamingTV:['No' 'Yes']\n",
      "StreamingMovies:['No' 'Yes']\n",
      "Contract:['Month-to-month' 'One year' 'Two year']\n",
      "PaperlessBilling:['Yes' 'No']\n",
      "PaymentMethod:['Electronic check' 'Mailed check' 'Bank transfer (automatic)'\n",
      " 'Credit card (automatic)']\n",
      "Churn:['No' 'Yes']\n"
     ]
    }
   ],
   "source": [
    "for column in dataset2:\n",
    "    if dataset2[column].dtypes=='object':\n",
    "        print(f'{column}:{dataset2[column].unique()}')"
   ]
  },
  {
   "cell_type": "code",
   "execution_count": 22,
   "id": "8550666a",
   "metadata": {},
   "outputs": [],
   "source": [
    "yes_no=['Partner','Dependents','PhoneService','MultipleLines','OnlineSecurity','OnlineBackup','DeviceProtection','TechSupport','StreamingTV','StreamingMovies','PaperlessBilling','Churn']"
   ]
  },
  {
   "cell_type": "code",
   "execution_count": 23,
   "id": "4c91ae66",
   "metadata": {},
   "outputs": [
    {
     "name": "stderr",
     "output_type": "stream",
     "text": [
      "C:\\Users\\hp 1\\AppData\\Local\\Temp\\ipykernel_2792\\3114132139.py:1: SettingWithCopyWarning: \n",
      "A value is trying to be set on a copy of a slice from a DataFrame\n",
      "\n",
      "See the caveats in the documentation: https://pandas.pydata.org/pandas-docs/stable/user_guide/indexing.html#returning-a-view-versus-a-copy\n",
      "  dataset2.replace('Yes',1,inplace=True)\n"
     ]
    }
   ],
   "source": [
    "dataset2.replace('Yes',1,inplace=True)"
   ]
  },
  {
   "cell_type": "code",
   "execution_count": 24,
   "id": "d8296c9c",
   "metadata": {},
   "outputs": [
    {
     "name": "stderr",
     "output_type": "stream",
     "text": [
      "C:\\Users\\hp 1\\AppData\\Local\\Temp\\ipykernel_2792\\3034036266.py:1: SettingWithCopyWarning: \n",
      "A value is trying to be set on a copy of a slice from a DataFrame\n",
      "\n",
      "See the caveats in the documentation: https://pandas.pydata.org/pandas-docs/stable/user_guide/indexing.html#returning-a-view-versus-a-copy\n",
      "  dataset2.replace('No',0,inplace=True)\n"
     ]
    }
   ],
   "source": [
    "dataset2.replace('No',0,inplace=True)"
   ]
  },
  {
   "cell_type": "code",
   "execution_count": 25,
   "id": "70147855",
   "metadata": {},
   "outputs": [
    {
     "name": "stdout",
     "output_type": "stream",
     "text": [
      "gender:['Female' 'Male']\n",
      "SeniorCitizen:[0 1]\n",
      "Partner:[1 0]\n",
      "Dependents:[0 1]\n",
      "tenure:[ 1 34  2 45  8 22 10 28 62 13 16 58 49 25 69 52 71 21 12 30 47 72 17 27\n",
      "  5 46 11 70 63 43 15 60 18 66  9  3 31 50 64 56  7 42 35 48 29 65 38 68\n",
      " 32 55 37 36 41  6  4 33 67 23 57 61 14 20 53 40 59 24 44 19 54 51 26 39]\n",
      "PhoneService:[0 1]\n",
      "MultipleLines:[0 1]\n",
      "InternetService:['DSL' 'Fiber optic' 0]\n",
      "OnlineSecurity:[0 1]\n",
      "OnlineBackup:[1 0]\n",
      "DeviceProtection:[0 1]\n",
      "TechSupport:[0 1]\n",
      "StreamingTV:[0 1]\n",
      "StreamingMovies:[0 1]\n",
      "Contract:['Month-to-month' 'One year' 'Two year']\n",
      "PaperlessBilling:[1 0]\n",
      "PaymentMethod:['Electronic check' 'Mailed check' 'Bank transfer (automatic)'\n",
      " 'Credit card (automatic)']\n",
      "MonthlyCharges:[29.85 56.95 53.85 ... 63.1  44.2  78.7 ]\n",
      "TotalCharges:[  29.85 1889.5   108.15 ...  346.45  306.6  6844.5 ]\n",
      "Churn:[0 1]\n"
     ]
    }
   ],
   "source": [
    "for column in dataset2:\n",
    "    \n",
    "        print(f'{column}:{dataset2[column].unique()}')"
   ]
  },
  {
   "cell_type": "code",
   "execution_count": 26,
   "id": "e7232592",
   "metadata": {},
   "outputs": [
    {
     "name": "stderr",
     "output_type": "stream",
     "text": [
      "C:\\Users\\hp 1\\AppData\\Local\\Temp\\ipykernel_2792\\795245302.py:1: SettingWithCopyWarning: \n",
      "A value is trying to be set on a copy of a slice from a DataFrame\n",
      "\n",
      "See the caveats in the documentation: https://pandas.pydata.org/pandas-docs/stable/user_guide/indexing.html#returning-a-view-versus-a-copy\n",
      "  dataset2.replace({'Female':1,'Male':0},inplace=True)\n"
     ]
    }
   ],
   "source": [
    "dataset2.replace({'Female':1,'Male':0},inplace=True)"
   ]
  },
  {
   "cell_type": "code",
   "execution_count": 27,
   "id": "b10626e4",
   "metadata": {},
   "outputs": [
    {
     "name": "stdout",
     "output_type": "stream",
     "text": [
      "gender:[1 0]\n",
      "SeniorCitizen:[0 1]\n",
      "Partner:[1 0]\n",
      "Dependents:[0 1]\n",
      "tenure:[ 1 34  2 45  8 22 10 28 62 13 16 58 49 25 69 52 71 21 12 30 47 72 17 27\n",
      "  5 46 11 70 63 43 15 60 18 66  9  3 31 50 64 56  7 42 35 48 29 65 38 68\n",
      " 32 55 37 36 41  6  4 33 67 23 57 61 14 20 53 40 59 24 44 19 54 51 26 39]\n",
      "PhoneService:[0 1]\n",
      "MultipleLines:[0 1]\n",
      "InternetService:['DSL' 'Fiber optic' 0]\n",
      "OnlineSecurity:[0 1]\n",
      "OnlineBackup:[1 0]\n",
      "DeviceProtection:[0 1]\n",
      "TechSupport:[0 1]\n",
      "StreamingTV:[0 1]\n",
      "StreamingMovies:[0 1]\n",
      "Contract:['Month-to-month' 'One year' 'Two year']\n",
      "PaperlessBilling:[1 0]\n",
      "PaymentMethod:['Electronic check' 'Mailed check' 'Bank transfer (automatic)'\n",
      " 'Credit card (automatic)']\n",
      "MonthlyCharges:[29.85 56.95 53.85 ... 63.1  44.2  78.7 ]\n",
      "TotalCharges:[  29.85 1889.5   108.15 ...  346.45  306.6  6844.5 ]\n",
      "Churn:[0 1]\n"
     ]
    }
   ],
   "source": [
    "for column in dataset2:\n",
    "    \n",
    "        print(f'{column}:{dataset2[column].unique()}')"
   ]
  },
  {
   "cell_type": "code",
   "execution_count": 28,
   "id": "1a2fb84f",
   "metadata": {},
   "outputs": [],
   "source": [
    "dataset3=pd.get_dummies(data=dataset2,columns=['InternetService','Contract','PaymentMethod'])"
   ]
  },
  {
   "cell_type": "code",
   "execution_count": 29,
   "id": "696214d4",
   "metadata": {},
   "outputs": [
    {
     "data": {
      "text/html": [
       "<div>\n",
       "<style scoped>\n",
       "    .dataframe tbody tr th:only-of-type {\n",
       "        vertical-align: middle;\n",
       "    }\n",
       "\n",
       "    .dataframe tbody tr th {\n",
       "        vertical-align: top;\n",
       "    }\n",
       "\n",
       "    .dataframe thead th {\n",
       "        text-align: right;\n",
       "    }\n",
       "</style>\n",
       "<table border=\"1\" class=\"dataframe\">\n",
       "  <thead>\n",
       "    <tr style=\"text-align: right;\">\n",
       "      <th></th>\n",
       "      <th>gender</th>\n",
       "      <th>SeniorCitizen</th>\n",
       "      <th>Partner</th>\n",
       "      <th>Dependents</th>\n",
       "      <th>tenure</th>\n",
       "      <th>PhoneService</th>\n",
       "      <th>MultipleLines</th>\n",
       "      <th>OnlineSecurity</th>\n",
       "      <th>OnlineBackup</th>\n",
       "      <th>DeviceProtection</th>\n",
       "      <th>...</th>\n",
       "      <th>InternetService_0</th>\n",
       "      <th>InternetService_DSL</th>\n",
       "      <th>InternetService_Fiber optic</th>\n",
       "      <th>Contract_Month-to-month</th>\n",
       "      <th>Contract_One year</th>\n",
       "      <th>Contract_Two year</th>\n",
       "      <th>PaymentMethod_Bank transfer (automatic)</th>\n",
       "      <th>PaymentMethod_Credit card (automatic)</th>\n",
       "      <th>PaymentMethod_Electronic check</th>\n",
       "      <th>PaymentMethod_Mailed check</th>\n",
       "    </tr>\n",
       "  </thead>\n",
       "  <tbody>\n",
       "    <tr>\n",
       "      <th>2036</th>\n",
       "      <td>0</td>\n",
       "      <td>1</td>\n",
       "      <td>1</td>\n",
       "      <td>0</td>\n",
       "      <td>1</td>\n",
       "      <td>1</td>\n",
       "      <td>1</td>\n",
       "      <td>0</td>\n",
       "      <td>0</td>\n",
       "      <td>0</td>\n",
       "      <td>...</td>\n",
       "      <td>0</td>\n",
       "      <td>0</td>\n",
       "      <td>1</td>\n",
       "      <td>1</td>\n",
       "      <td>0</td>\n",
       "      <td>0</td>\n",
       "      <td>0</td>\n",
       "      <td>0</td>\n",
       "      <td>1</td>\n",
       "      <td>0</td>\n",
       "    </tr>\n",
       "    <tr>\n",
       "      <th>1547</th>\n",
       "      <td>1</td>\n",
       "      <td>0</td>\n",
       "      <td>1</td>\n",
       "      <td>0</td>\n",
       "      <td>63</td>\n",
       "      <td>1</td>\n",
       "      <td>1</td>\n",
       "      <td>0</td>\n",
       "      <td>1</td>\n",
       "      <td>1</td>\n",
       "      <td>...</td>\n",
       "      <td>0</td>\n",
       "      <td>0</td>\n",
       "      <td>1</td>\n",
       "      <td>0</td>\n",
       "      <td>1</td>\n",
       "      <td>0</td>\n",
       "      <td>0</td>\n",
       "      <td>0</td>\n",
       "      <td>1</td>\n",
       "      <td>0</td>\n",
       "    </tr>\n",
       "    <tr>\n",
       "      <th>902</th>\n",
       "      <td>0</td>\n",
       "      <td>0</td>\n",
       "      <td>0</td>\n",
       "      <td>0</td>\n",
       "      <td>17</td>\n",
       "      <td>1</td>\n",
       "      <td>0</td>\n",
       "      <td>1</td>\n",
       "      <td>0</td>\n",
       "      <td>0</td>\n",
       "      <td>...</td>\n",
       "      <td>0</td>\n",
       "      <td>0</td>\n",
       "      <td>1</td>\n",
       "      <td>1</td>\n",
       "      <td>0</td>\n",
       "      <td>0</td>\n",
       "      <td>0</td>\n",
       "      <td>0</td>\n",
       "      <td>1</td>\n",
       "      <td>0</td>\n",
       "    </tr>\n",
       "  </tbody>\n",
       "</table>\n",
       "<p>3 rows × 27 columns</p>\n",
       "</div>"
      ],
      "text/plain": [
       "      gender  SeniorCitizen  Partner  Dependents  tenure  PhoneService  \\\n",
       "2036       0              1        1           0       1             1   \n",
       "1547       1              0        1           0      63             1   \n",
       "902        0              0        0           0      17             1   \n",
       "\n",
       "      MultipleLines  OnlineSecurity  OnlineBackup  DeviceProtection  ...  \\\n",
       "2036              1               0             0                 0  ...   \n",
       "1547              1               0             1                 1  ...   \n",
       "902               0               1             0                 0  ...   \n",
       "\n",
       "      InternetService_0  InternetService_DSL  InternetService_Fiber optic  \\\n",
       "2036                  0                    0                            1   \n",
       "1547                  0                    0                            1   \n",
       "902                   0                    0                            1   \n",
       "\n",
       "      Contract_Month-to-month  Contract_One year  Contract_Two year  \\\n",
       "2036                        1                  0                  0   \n",
       "1547                        0                  1                  0   \n",
       "902                         1                  0                  0   \n",
       "\n",
       "      PaymentMethod_Bank transfer (automatic)  \\\n",
       "2036                                        0   \n",
       "1547                                        0   \n",
       "902                                         0   \n",
       "\n",
       "      PaymentMethod_Credit card (automatic)  PaymentMethod_Electronic check  \\\n",
       "2036                                      0                               1   \n",
       "1547                                      0                               1   \n",
       "902                                       0                               1   \n",
       "\n",
       "      PaymentMethod_Mailed check  \n",
       "2036                           0  \n",
       "1547                           0  \n",
       "902                            0  \n",
       "\n",
       "[3 rows x 27 columns]"
      ]
     },
     "execution_count": 29,
     "metadata": {},
     "output_type": "execute_result"
    }
   ],
   "source": [
    "dataset3.sample(3)"
   ]
  },
  {
   "cell_type": "code",
   "execution_count": 30,
   "id": "a639f1d3",
   "metadata": {},
   "outputs": [
    {
     "data": {
      "text/plain": [
       "gender                                       int64\n",
       "SeniorCitizen                                int64\n",
       "Partner                                      int64\n",
       "Dependents                                   int64\n",
       "tenure                                       int64\n",
       "PhoneService                                 int64\n",
       "MultipleLines                                int64\n",
       "OnlineSecurity                               int64\n",
       "OnlineBackup                                 int64\n",
       "DeviceProtection                             int64\n",
       "TechSupport                                  int64\n",
       "StreamingTV                                  int64\n",
       "StreamingMovies                              int64\n",
       "PaperlessBilling                             int64\n",
       "MonthlyCharges                             float64\n",
       "TotalCharges                               float64\n",
       "Churn                                        int64\n",
       "InternetService_0                            uint8\n",
       "InternetService_DSL                          uint8\n",
       "InternetService_Fiber optic                  uint8\n",
       "Contract_Month-to-month                      uint8\n",
       "Contract_One year                            uint8\n",
       "Contract_Two year                            uint8\n",
       "PaymentMethod_Bank transfer (automatic)      uint8\n",
       "PaymentMethod_Credit card (automatic)        uint8\n",
       "PaymentMethod_Electronic check               uint8\n",
       "PaymentMethod_Mailed check                   uint8\n",
       "dtype: object"
      ]
     },
     "execution_count": 30,
     "metadata": {},
     "output_type": "execute_result"
    }
   ],
   "source": [
    "dataset3.dtypes"
   ]
  },
  {
   "cell_type": "code",
   "execution_count": 31,
   "id": "ba45df50",
   "metadata": {},
   "outputs": [],
   "source": [
    "#scaling the data"
   ]
  },
  {
   "cell_type": "code",
   "execution_count": 32,
   "id": "9c9f0232",
   "metadata": {},
   "outputs": [],
   "source": [
    "cols_to_scale = ['tenure','MonthlyCharges','TotalCharges']\n",
    "\n",
    "from sklearn.preprocessing import MinMaxScaler\n",
    "scaler = MinMaxScaler()\n",
    "dataset3[cols_to_scale] = scaler.fit_transform(dataset3[cols_to_scale])"
   ]
  },
  {
   "cell_type": "code",
   "execution_count": 33,
   "id": "319699c2",
   "metadata": {},
   "outputs": [
    {
     "name": "stdout",
     "output_type": "stream",
     "text": [
      "gender:[1 0]\n",
      "SeniorCitizen:[0 1]\n",
      "Partner:[1 0]\n",
      "Dependents:[0 1]\n",
      "tenure:[0.         0.46478873 0.01408451 0.61971831 0.09859155 0.29577465\n",
      " 0.12676056 0.38028169 0.85915493 0.16901408 0.21126761 0.8028169\n",
      " 0.67605634 0.33802817 0.95774648 0.71830986 0.98591549 0.28169014\n",
      " 0.15492958 0.4084507  0.64788732 1.         0.22535211 0.36619718\n",
      " 0.05633803 0.63380282 0.14084507 0.97183099 0.87323944 0.5915493\n",
      " 0.1971831  0.83098592 0.23943662 0.91549296 0.11267606 0.02816901\n",
      " 0.42253521 0.69014085 0.88732394 0.77464789 0.08450704 0.57746479\n",
      " 0.47887324 0.66197183 0.3943662  0.90140845 0.52112676 0.94366197\n",
      " 0.43661972 0.76056338 0.50704225 0.49295775 0.56338028 0.07042254\n",
      " 0.04225352 0.45070423 0.92957746 0.30985915 0.78873239 0.84507042\n",
      " 0.18309859 0.26760563 0.73239437 0.54929577 0.81690141 0.32394366\n",
      " 0.6056338  0.25352113 0.74647887 0.70422535 0.35211268 0.53521127]\n",
      "PhoneService:[0 1]\n",
      "MultipleLines:[0 1]\n",
      "OnlineSecurity:[0 1]\n",
      "OnlineBackup:[1 0]\n",
      "DeviceProtection:[0 1]\n",
      "TechSupport:[0 1]\n",
      "StreamingTV:[0 1]\n",
      "StreamingMovies:[0 1]\n",
      "PaperlessBilling:[1 0]\n",
      "MonthlyCharges:[0.11542289 0.38507463 0.35422886 ... 0.44626866 0.25820896 0.60149254]\n",
      "TotalCharges:[0.0012751  0.21586661 0.01031041 ... 0.03780868 0.03321025 0.78764136]\n",
      "Churn:[0 1]\n",
      "InternetService_0:[0 1]\n",
      "InternetService_DSL:[1 0]\n",
      "InternetService_Fiber optic:[0 1]\n",
      "Contract_Month-to-month:[1 0]\n",
      "Contract_One year:[0 1]\n",
      "Contract_Two year:[0 1]\n",
      "PaymentMethod_Bank transfer (automatic):[0 1]\n",
      "PaymentMethod_Credit card (automatic):[0 1]\n",
      "PaymentMethod_Electronic check:[1 0]\n",
      "PaymentMethod_Mailed check:[0 1]\n"
     ]
    }
   ],
   "source": [
    "for column in dataset3:\n",
    "    \n",
    "        print(f'{column}:{dataset3[column].unique()}')"
   ]
  },
  {
   "cell_type": "markdown",
   "id": "dd825620",
   "metadata": {},
   "source": [
    "# Train Test Split"
   ]
  },
  {
   "cell_type": "code",
   "execution_count": 34,
   "id": "48c27a46",
   "metadata": {},
   "outputs": [],
   "source": [
    "X=dataset3.drop('Churn',axis='columns')\n",
    "Y=dataset3.Churn"
   ]
  },
  {
   "cell_type": "code",
   "execution_count": 35,
   "id": "8c3bb0f1",
   "metadata": {},
   "outputs": [],
   "source": [
    "from sklearn.model_selection import train_test_split\n",
    "X_train,X_test,Y_train,Y_test=train_test_split(X,Y,test_size=0.15,random_state=69)"
   ]
  },
  {
   "cell_type": "code",
   "execution_count": 36,
   "id": "01d66eb2",
   "metadata": {},
   "outputs": [
    {
     "data": {
      "text/plain": [
       "(5958, 26)"
      ]
     },
     "execution_count": 36,
     "metadata": {},
     "output_type": "execute_result"
    }
   ],
   "source": [
    "X_train.shape"
   ]
  },
  {
   "cell_type": "code",
   "execution_count": 37,
   "id": "52da4850",
   "metadata": {},
   "outputs": [
    {
     "data": {
      "text/plain": [
       "(1052, 26)"
      ]
     },
     "execution_count": 37,
     "metadata": {},
     "output_type": "execute_result"
    }
   ],
   "source": [
    "X_test.shape"
   ]
  },
  {
   "cell_type": "markdown",
   "id": "b51f031f",
   "metadata": {},
   "source": [
    "# Modeling"
   ]
  },
  {
   "cell_type": "code",
   "execution_count": 38,
   "id": "8b45c27a",
   "metadata": {},
   "outputs": [],
   "source": [
    "import tensorflow as tf\n",
    "from tensorflow import keras\n",
    "model=keras.Sequential([\n",
    "    keras.layers.Dense(26,input_shape=(26,),activation='relu'),\n",
    "    keras.layers.Dense(26,input_shape=(26,),activation='relu'),\n",
    "    keras.layers.Dense(1,activation='sigmoid'), \n",
    "])\n",
    "model.compile(optimizer='adam',\n",
    "              loss='binary_crossentropy',\n",
    "              metrics=['accuracy'])"
   ]
  },
  {
   "cell_type": "code",
   "execution_count": 39,
   "id": "d966a1a5",
   "metadata": {},
   "outputs": [
    {
     "name": "stdout",
     "output_type": "stream",
     "text": [
      "Epoch 1/50\n",
      "187/187 [==============================] - 1s 2ms/step - loss: 0.4948 - accuracy: 0.7625\n",
      "Epoch 2/50\n",
      "187/187 [==============================] - 0s 2ms/step - loss: 0.4244 - accuracy: 0.7924\n",
      "Epoch 3/50\n",
      "187/187 [==============================] - 0s 2ms/step - loss: 0.4178 - accuracy: 0.7961\n",
      "Epoch 4/50\n",
      "187/187 [==============================] - 0s 2ms/step - loss: 0.4157 - accuracy: 0.8003\n",
      "Epoch 5/50\n",
      "187/187 [==============================] - 0s 2ms/step - loss: 0.4123 - accuracy: 0.8014\n",
      "Epoch 6/50\n",
      "187/187 [==============================] - 0s 2ms/step - loss: 0.4086 - accuracy: 0.8072\n",
      "Epoch 7/50\n",
      "187/187 [==============================] - 0s 2ms/step - loss: 0.4070 - accuracy: 0.8041\n",
      "Epoch 8/50\n",
      "187/187 [==============================] - 0s 2ms/step - loss: 0.4063 - accuracy: 0.8090\n",
      "Epoch 9/50\n",
      "187/187 [==============================] - 0s 2ms/step - loss: 0.4045 - accuracy: 0.8077\n",
      "Epoch 10/50\n",
      "187/187 [==============================] - 0s 2ms/step - loss: 0.4021 - accuracy: 0.8113\n",
      "Epoch 11/50\n",
      "187/187 [==============================] - 0s 2ms/step - loss: 0.4009 - accuracy: 0.8115\n",
      "Epoch 12/50\n",
      "187/187 [==============================] - 0s 2ms/step - loss: 0.4006 - accuracy: 0.8115\n",
      "Epoch 13/50\n",
      "187/187 [==============================] - 0s 2ms/step - loss: 0.3979 - accuracy: 0.8088\n",
      "Epoch 14/50\n",
      "187/187 [==============================] - 0s 2ms/step - loss: 0.3986 - accuracy: 0.8120\n",
      "Epoch 15/50\n",
      "187/187 [==============================] - 0s 2ms/step - loss: 0.3971 - accuracy: 0.8100\n",
      "Epoch 16/50\n",
      "187/187 [==============================] - 0s 2ms/step - loss: 0.3959 - accuracy: 0.8149\n",
      "Epoch 17/50\n",
      "187/187 [==============================] - 0s 2ms/step - loss: 0.3944 - accuracy: 0.8124\n",
      "Epoch 18/50\n",
      "187/187 [==============================] - 0s 2ms/step - loss: 0.3950 - accuracy: 0.8117\n",
      "Epoch 19/50\n",
      "187/187 [==============================] - 0s 2ms/step - loss: 0.3930 - accuracy: 0.8124\n",
      "Epoch 20/50\n",
      "187/187 [==============================] - 0s 2ms/step - loss: 0.3919 - accuracy: 0.8154\n",
      "Epoch 21/50\n",
      "187/187 [==============================] - 0s 2ms/step - loss: 0.3915 - accuracy: 0.8122\n",
      "Epoch 22/50\n",
      "187/187 [==============================] - 0s 2ms/step - loss: 0.3903 - accuracy: 0.8144\n",
      "Epoch 23/50\n",
      "187/187 [==============================] - 0s 2ms/step - loss: 0.3914 - accuracy: 0.8140\n",
      "Epoch 24/50\n",
      "187/187 [==============================] - 0s 2ms/step - loss: 0.3876 - accuracy: 0.8191\n",
      "Epoch 25/50\n",
      "187/187 [==============================] - 0s 2ms/step - loss: 0.3870 - accuracy: 0.8160\n",
      "Epoch 26/50\n",
      "187/187 [==============================] - 0s 2ms/step - loss: 0.3872 - accuracy: 0.8139\n",
      "Epoch 27/50\n",
      "187/187 [==============================] - 0s 2ms/step - loss: 0.3861 - accuracy: 0.8172\n",
      "Epoch 28/50\n",
      "187/187 [==============================] - 0s 2ms/step - loss: 0.3849 - accuracy: 0.8157\n",
      "Epoch 29/50\n",
      "187/187 [==============================] - 0s 2ms/step - loss: 0.3852 - accuracy: 0.8164\n",
      "Epoch 30/50\n",
      "187/187 [==============================] - 0s 2ms/step - loss: 0.3835 - accuracy: 0.8197\n",
      "Epoch 31/50\n",
      "187/187 [==============================] - 0s 2ms/step - loss: 0.3828 - accuracy: 0.8171\n",
      "Epoch 32/50\n",
      "187/187 [==============================] - 0s 2ms/step - loss: 0.3822 - accuracy: 0.8191\n",
      "Epoch 33/50\n",
      "187/187 [==============================] - 0s 2ms/step - loss: 0.3810 - accuracy: 0.8184\n",
      "Epoch 34/50\n",
      "187/187 [==============================] - 0s 2ms/step - loss: 0.3804 - accuracy: 0.8186\n",
      "Epoch 35/50\n",
      "187/187 [==============================] - 0s 2ms/step - loss: 0.3792 - accuracy: 0.8209\n",
      "Epoch 36/50\n",
      "187/187 [==============================] - 0s 2ms/step - loss: 0.3786 - accuracy: 0.8194\n",
      "Epoch 37/50\n",
      "187/187 [==============================] - 0s 2ms/step - loss: 0.3786 - accuracy: 0.8187\n",
      "Epoch 38/50\n",
      "187/187 [==============================] - 0s 2ms/step - loss: 0.3777 - accuracy: 0.8199\n",
      "Epoch 39/50\n",
      "187/187 [==============================] - 0s 2ms/step - loss: 0.3765 - accuracy: 0.8214\n",
      "Epoch 40/50\n",
      "187/187 [==============================] - 0s 2ms/step - loss: 0.3770 - accuracy: 0.8218\n",
      "Epoch 41/50\n",
      "187/187 [==============================] - 0s 2ms/step - loss: 0.3745 - accuracy: 0.8211\n",
      "Epoch 42/50\n",
      "187/187 [==============================] - 0s 2ms/step - loss: 0.3756 - accuracy: 0.8229\n",
      "Epoch 43/50\n",
      "187/187 [==============================] - 0s 2ms/step - loss: 0.3750 - accuracy: 0.8181\n",
      "Epoch 44/50\n",
      "187/187 [==============================] - 0s 2ms/step - loss: 0.3748 - accuracy: 0.8229\n",
      "Epoch 45/50\n",
      "187/187 [==============================] - 0s 2ms/step - loss: 0.3718 - accuracy: 0.8221\n",
      "Epoch 46/50\n",
      "187/187 [==============================] - 0s 2ms/step - loss: 0.3729 - accuracy: 0.8216\n",
      "Epoch 47/50\n",
      "187/187 [==============================] - 0s 2ms/step - loss: 0.3714 - accuracy: 0.8229\n",
      "Epoch 48/50\n",
      "187/187 [==============================] - 0s 2ms/step - loss: 0.3708 - accuracy: 0.8256\n",
      "Epoch 49/50\n",
      "187/187 [==============================] - 0s 2ms/step - loss: 0.3711 - accuracy: 0.8236\n",
      "Epoch 50/50\n",
      "187/187 [==============================] - 0s 2ms/step - loss: 0.3697 - accuracy: 0.8233\n"
     ]
    },
    {
     "data": {
      "text/plain": [
       "<keras.callbacks.History at 0x21c9a7cb7c0>"
      ]
     },
     "execution_count": 39,
     "metadata": {},
     "output_type": "execute_result"
    }
   ],
   "source": [
    "model.fit(X_train,Y_train,epochs=50)"
   ]
  },
  {
   "cell_type": "code",
   "execution_count": 40,
   "id": "edf501bb",
   "metadata": {},
   "outputs": [
    {
     "name": "stdout",
     "output_type": "stream",
     "text": [
      "33/33 [==============================] - 0s 1ms/step - loss: 0.4756 - accuracy: 0.7747\n"
     ]
    },
    {
     "data": {
      "text/plain": [
       "[0.4756121039390564, 0.7747148275375366]"
      ]
     },
     "execution_count": 40,
     "metadata": {},
     "output_type": "execute_result"
    }
   ],
   "source": [
    "model.evaluate(X_test,Y_test)"
   ]
  },
  {
   "cell_type": "code",
   "execution_count": 41,
   "id": "9ca0bdd7",
   "metadata": {},
   "outputs": [
    {
     "name": "stdout",
     "output_type": "stream",
     "text": [
      "33/33 [==============================] - 0s 2ms/step\n"
     ]
    },
    {
     "data": {
      "text/plain": [
       "array([[0.24922627],\n",
       "       [0.21683717],\n",
       "       [0.00875512],\n",
       "       [0.2806652 ],\n",
       "       [0.07840933]], dtype=float32)"
      ]
     },
     "execution_count": 41,
     "metadata": {},
     "output_type": "execute_result"
    }
   ],
   "source": [
    "PrED=model.predict(X_test)\n",
    "PrED[:5]"
   ]
  },
  {
   "cell_type": "code",
   "execution_count": 42,
   "id": "3ffb118e",
   "metadata": {},
   "outputs": [],
   "source": [
    "Y_pred=[]\n",
    "for elements in PrED:\n",
    "    if elements > 0.5:\n",
    "        Y_pred.append(1)\n",
    "    else:\n",
    "        Y_pred.append(0)"
   ]
  },
  {
   "cell_type": "code",
   "execution_count": 43,
   "id": "65e617a0",
   "metadata": {},
   "outputs": [
    {
     "data": {
      "text/plain": [
       "[0, 0, 0, 0, 0]"
      ]
     },
     "execution_count": 43,
     "metadata": {},
     "output_type": "execute_result"
    }
   ],
   "source": [
    "Y_pred[:5]"
   ]
  },
  {
   "cell_type": "code",
   "execution_count": 44,
   "id": "965334a6",
   "metadata": {},
   "outputs": [
    {
     "data": {
      "text/plain": [
       "600     0\n",
       "1883    1\n",
       "2227    0\n",
       "6576    0\n",
       "2556    0\n",
       "Name: Churn, dtype: int64"
      ]
     },
     "execution_count": 44,
     "metadata": {},
     "output_type": "execute_result"
    }
   ],
   "source": [
    "Y_test[:5]"
   ]
  },
  {
   "cell_type": "code",
   "execution_count": 45,
   "id": "7066cdf7",
   "metadata": {},
   "outputs": [
    {
     "name": "stdout",
     "output_type": "stream",
     "text": [
      "              precision    recall  f1-score   support\n",
      "\n",
      "           0       0.84      0.85      0.85       776\n",
      "           1       0.57      0.56      0.57       276\n",
      "\n",
      "    accuracy                           0.77      1052\n",
      "   macro avg       0.71      0.70      0.71      1052\n",
      "weighted avg       0.77      0.77      0.77      1052\n",
      "\n"
     ]
    }
   ],
   "source": [
    "from sklearn.metrics import confusion_matrix, classification_report\n",
    "print(classification_report(Y_test,Y_pred))"
   ]
  },
  {
   "cell_type": "code",
   "execution_count": null,
   "id": "f5f899f3",
   "metadata": {},
   "outputs": [],
   "source": []
  },
  {
   "cell_type": "code",
   "execution_count": null,
   "id": "06aa9ee2",
   "metadata": {},
   "outputs": [],
   "source": []
  },
  {
   "cell_type": "code",
   "execution_count": null,
   "id": "7f05879f",
   "metadata": {},
   "outputs": [],
   "source": []
  },
  {
   "cell_type": "code",
   "execution_count": null,
   "id": "d2ebb27d",
   "metadata": {},
   "outputs": [],
   "source": []
  },
  {
   "cell_type": "code",
   "execution_count": null,
   "id": "e998780c",
   "metadata": {},
   "outputs": [],
   "source": []
  }
 ],
 "metadata": {
  "kernelspec": {
   "display_name": "Python 3 (ipykernel)",
   "language": "python",
   "name": "python3"
  },
  "language_info": {
   "codemirror_mode": {
    "name": "ipython",
    "version": 3
   },
   "file_extension": ".py",
   "mimetype": "text/x-python",
   "name": "python",
   "nbconvert_exporter": "python",
   "pygments_lexer": "ipython3",
   "version": "3.9.12"
  }
 },
 "nbformat": 4,
 "nbformat_minor": 5
}
